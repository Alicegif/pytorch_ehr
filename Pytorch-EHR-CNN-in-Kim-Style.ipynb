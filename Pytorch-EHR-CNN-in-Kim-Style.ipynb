{
 "cells": [
  {
   "cell_type": "code",
   "execution_count": 155,
   "metadata": {
    "collapsed": true
   },
   "outputs": [],
   "source": [
    "%matplotlib inline"
   ]
  },
  {
   "cell_type": "markdown",
   "metadata": {},
   "source": [
    "This is playing with pytorch framework for EHR modeling. In general, a patient's health record can be represented as a sequence of visits. Each visit has certain features, and can be represented as a list of medical codes.\n",
    "\n",
    "For simplicity, we are starting with the data structure that a patient's health record is a list of list, following the line of work from Jimeng Sun's lab. We will use codes from Ed Choi to manipulate the data. \n",
    "\n",
    "The core model is an GRU.\n",
    "\n",
    "# todos:\n",
    "* regularization\n",
    "* save/load model\n",
    "* load pre-trained embedding\n",
    "* mini-batching\n",
    "* make sure it runs on GPU"
   ]
  },
  {
   "cell_type": "code",
   "execution_count": 20,
   "metadata": {
    "collapsed": true
   },
   "outputs": [],
   "source": [
    "from __future__ import print_function, division\n",
    "from io import open\n",
    "import string\n",
    "import re\n",
    "import random\n",
    "\n",
    "import torch\n",
    "import torch.nn as nn\n",
    "from torch.autograd import Variable\n",
    "from torch import optim\n",
    "import torch.nn.functional as F\n",
    "\n",
    "use_cuda = torch.cuda.is_available()"
   ]
  },
  {
   "cell_type": "code",
   "execution_count": 21,
   "metadata": {},
   "outputs": [
    {
     "data": {
      "text/plain": [
       "False"
      ]
     },
     "execution_count": 21,
     "metadata": {},
     "output_type": "execute_result"
    }
   ],
   "source": [
    "use_cuda"
   ]
  },
  {
   "cell_type": "code",
   "execution_count": 22,
   "metadata": {
    "collapsed": true
   },
   "outputs": [],
   "source": [
    "# prepare data: load the input file containing list of list of list, and corresponding label file\n",
    "# and output the merged list of pairs\n",
    "import sys, random\n",
    "import numpy as np\n",
    "try:\n",
    "    import cPickle as pickle\n",
    "except:\n",
    "    import pickle\n",
    "\n",
    "# set random seed\n",
    "random.seed( 3 )\n",
    "\n",
    "seqFile = 'data/cerner/hospital_data/h143.visits'\n",
    "labelFile = 'data/cerner/hospital_data/h143.labels'\n",
    "set_x = pickle.load(open(seqFile, 'rb'), encoding='bytes')\n",
    "set_y = pickle.load(open(labelFile, 'rb'),encoding='bytes')\n",
    "\n",
    "labeled_ehr_seq_list = [(set_y[i],set_x[i]) for i in range(len(set_x))] # merge the two lists"
   ]
  },
  {
   "cell_type": "code",
   "execution_count": 151,
   "metadata": {},
   "outputs": [],
   "source": [
    "class CNN_EHR(nn.Module):\n",
    "    \n",
    "    def __init__(self, embed_num, embed_dim, kernel_num, kernel_sizes, dropout):\n",
    "        super(CNN_EHR, self).__init__()\n",
    "        \n",
    "        V = embed_num\n",
    "        D = embed_dim\n",
    "        self.D = D\n",
    "        C = 1\n",
    "        Ci = 1\n",
    "        Co = kernel_num\n",
    "        Ks = kernel_sizes\n",
    "\n",
    "        self.embed = nn.Embedding(V, D)\n",
    "        self.convs1 = nn.ModuleList([nn.Conv1d(D, Co, K, padding=2) for K in Ks])\n",
    "        '''\n",
    "        self.conv13 = nn.Conv2d(Ci, Co, (3, D))\n",
    "        self.conv14 = nn.Conv2d(Ci, Co, (4, D))\n",
    "        self.conv15 = nn.Conv2d(Ci, Co, (5, D))\n",
    "        '''\n",
    "        self.dropout = nn.Dropout(dropout)\n",
    "        self.fc1 = nn.Linear(len(Ks)*Co, C)\n",
    "        self.sigmoid = nn.Sigmoid()\n",
    "\n",
    "    def EmbedPatient(self, x): # x is a ehr_seq_tensor\n",
    "        for i in range(len(x)):\n",
    "            emb = self.embed(x[i]).view(-1, 1, self.D)\n",
    "            emb = torch.sum(emb, dim=0).view(1,1,-1)\n",
    "            if i==0:\n",
    "                y = emb\n",
    "            else:\n",
    "                y = torch.cat((y, emb), 0)\n",
    "                \n",
    "        return y\n",
    "\n",
    "    def forward(self, input):\n",
    "        x = self.EmbedPatient(input) # []\n",
    "        x = x.permute(1,2,0) # [N, Co, W]\n",
    "        \n",
    "        x = [F.relu(conv(x)) for conv in self.convs1]  # [(N, Co, W), ...]*len(Ks)\n",
    "        \n",
    "        x = [F.max_pool1d(i, i.size(2)).squeeze(2) for i in x]  # [(N, Co), ...]*len(Ks)\n",
    "\n",
    "        x = torch.cat(x, 1)\n",
    "\n",
    "        '''\n",
    "        x1 = self.conv_and_pool(x,self.conv13) #(N,Co)\n",
    "        x2 = self.conv_and_pool(x,self.conv14) #(N,Co)\n",
    "        x3 = self.conv_and_pool(x,self.conv15) #(N,Co)\n",
    "        x = torch.cat((x1, x2, x3), 1) # (N,len(Ks)*Co)\n",
    "        '''\n",
    "        x = self.dropout(x)  # (N, len(Ks)*Co)\n",
    "        logit = self.fc1(x)  # (N, C)\n",
    "        y = self.sigmoid(logit)\n",
    "        return y"
   ]
  },
  {
   "cell_type": "code",
   "execution_count": 152,
   "metadata": {},
   "outputs": [],
   "source": [
    "''' # for debugging\n",
    "model = CNN_EHR(embed_num=20000, embed_dim=128, kernel_num=64, kernel_sizes=[2,3,4], dropout=0.5)\n",
    "output, loss = train(label_tensor, ehr_seq_tensor, criterion = nn.BCELoss(), optimizer = optimizer)\n",
    "'''"
   ]
  },
  {
   "cell_type": "code",
   "execution_count": 147,
   "metadata": {
    "collapsed": true
   },
   "outputs": [],
   "source": [
    "# training one sample, model is a global variable\n",
    "def train(label_tensor, ehr_seq_tensor, criterion, optimizer):\n",
    "    # hidden = model.initHidden()\n",
    "\n",
    "    model.zero_grad()\n",
    "\n",
    "    # for i in range(len(ehr_seq_tensor)):\n",
    "    output = model(ehr_seq_tensor)\n",
    "\n",
    "    loss = criterion(output, label_tensor)\n",
    "    loss.backward()\n",
    "\n",
    "    optimizer.step()\n",
    "   \n",
    "    return output, loss.data[0]\n"
   ]
  },
  {
   "cell_type": "code",
   "execution_count": 148,
   "metadata": {},
   "outputs": [
    {
     "name": "stdout",
     "output_type": "stream",
     "text": [
      "Variable containing:\n",
      " 0\n",
      "[torch.FloatTensor of size 1x1]\n",
      "\n"
     ]
    },
    {
     "data": {
      "text/plain": [
       "Variable containing:\n",
       " 0.9823\n",
       "[torch.FloatTensor of size 1x1]"
      ]
     },
     "execution_count": 148,
     "metadata": {},
     "output_type": "execute_result"
    }
   ],
   "source": [
    "criterion = nn.BCELoss()\n",
    "optimizer = optimizer\n",
    "print(label_tensor)\n",
    "loss = criterion(output, label_tensor)\n",
    "\n",
    "output"
   ]
  },
  {
   "cell_type": "code",
   "execution_count": 26,
   "metadata": {
    "collapsed": true
   },
   "outputs": [],
   "source": [
    "def variableFromEHRSeq(ehr_seq):\n",
    "    # ehr_seq is a list of list\n",
    "    result = []\n",
    "    if use_cuda:\n",
    "        for i in range(len(ehr_seq)):\n",
    "            result.append( Variable(torch.LongTensor([int(v) for v in ehr_seq[i]])).cuda() )\n",
    "    # if use_cuda:\n",
    "    #     return result.cuda()\n",
    "    else:\n",
    "        for i in range(len(ehr_seq)):\n",
    "            result.append( Variable(torch.LongTensor([int(v) for v in ehr_seq[i]])) )\n",
    "\n",
    "    return result"
   ]
  },
  {
   "cell_type": "code",
   "execution_count": 157,
   "metadata": {
    "collapsed": true
   },
   "outputs": [],
   "source": [
    "# training all samples in random order\n",
    "import time\n",
    "import math\n",
    "\n",
    "n_iters = 100000\n",
    "print_every = 5000\n",
    "plot_every = 1000\n",
    "\n",
    "input_size = 20000\n",
    "\n",
    "# Keep track of losses for plotting\n",
    "current_loss = 0\n",
    "all_losses = []\n",
    "\n",
    "def timeSince(since):\n",
    "    now = time.time()\n",
    "    s = now - since\n",
    "    m = math.floor(s / 60)\n",
    "    s -= m * 60\n",
    "    return '%dm %ds' % (m, s)\n",
    "\n"
   ]
  },
  {
   "cell_type": "code",
   "execution_count": 158,
   "metadata": {},
   "outputs": [
    {
     "name": "stdout",
     "output_type": "stream",
     "text": [
      "5000 5% (4m 35s) 0.4147 \n",
      "10000 10% (8m 55s) 0.1041 \n",
      "15000 15% (13m 14s) 0.3307 \n",
      "20000 20% (17m 39s) 0.1934 \n",
      "25000 25% (22m 6s) 0.2121 \n",
      "30000 30% (27m 25s) 0.0361 \n",
      "35000 35% (32m 58s) 0.0559 \n",
      "40000 40% (38m 32s) 0.1654 \n",
      "45000 45% (44m 14s) 0.0474 \n",
      "50000 50% (49m 49s) 0.2272 \n",
      "55000 55% (55m 35s) 0.0567 \n",
      "60000 60% (61m 12s) 0.0108 \n",
      "65000 65% (66m 51s) 0.1522 \n",
      "70000 70% (72m 26s) 0.0928 \n",
      "75000 75% (77m 52s) 3.5484 \n",
      "80000 80% (83m 29s) 0.0208 \n",
      "85000 85% (89m 11s) 0.0200 \n",
      "90000 90% (94m 55s) 0.0026 \n",
      "95000 95% (100m 38s) 0.0546 \n",
      "100000 100% (106m 19s) 0.0886 \n"
     ]
    }
   ],
   "source": [
    "\n",
    "\n",
    "start = time.time()\n",
    "\n",
    "learning_rate = 0.001\n",
    "optimizer = optim.SGD(model.parameters(), lr=learning_rate)\n",
    "\n",
    "for iter in range(1, n_iters + 1):\n",
    "    label, ehr_seq = random.choice(labeled_ehr_seq_list)\n",
    "    label_tensor = Variable(torch.FloatTensor([[float(label)]]))\n",
    "    if use_cuda:\n",
    "        label_tensor = label_tensor.cuda() \n",
    "    ehr_seq_tensor = variableFromEHRSeq(ehr_seq)\n",
    "    \n",
    "    output, loss = train(label_tensor, ehr_seq_tensor, criterion = nn.BCELoss(), optimizer = optimizer)\n",
    "    current_loss += loss\n",
    "\n",
    "    # Print iter number, loss, name and guess\n",
    "    if iter % print_every == 0:\n",
    "        print('%d %d%% (%s) %.4f ' % (iter, iter / n_iters * 100, timeSince(start), loss))\n",
    "\n",
    "    # Add current loss avg to list of losses\n",
    "    if iter % plot_every == 0:\n",
    "        all_losses.append(current_loss / plot_every)\n",
    "        current_loss = 0"
   ]
  },
  {
   "cell_type": "code",
   "execution_count": 159,
   "metadata": {},
   "outputs": [
    {
     "data": {
      "text/plain": [
       "<matplotlib.figure.Figure at 0x110862438>"
      ]
     },
     "metadata": {},
     "output_type": "display_data"
    },
    {
     "data": {
      "image/png": "[encoded data removed]",
      "text/plain": [
       "<matplotlib.figure.Figure at 0x113f81a20>"
      ]
     },
     "metadata": {},
     "output_type": "display_data"
    }
   ],
   "source": [
    "# plotting and diagnose\n",
    "import matplotlib.pyplot as plt\n",
    "import matplotlib.ticker as ticker\n",
    "import numpy as np\n",
    "\n",
    "\n",
    "def showPlot(points):\n",
    "    plt.figure()\n",
    "    fig, ax = plt.subplots()\n",
    "    # this locator puts ticks at regular intervals\n",
    "    loc = ticker.MultipleLocator(base=0.2)\n",
    "    ax.yaxis.set_major_locator(loc)\n",
    "    plt.plot(points)\n",
    "    \n",
    "showPlot(all_losses)"
   ]
  },
  {
   "cell_type": "code",
   "execution_count": null,
   "metadata": {
    "collapsed": true
   },
   "outputs": [],
   "source": [
    "# validation/test\n"
   ]
  },
  {
   "cell_type": "code",
   "execution_count": 160,
   "metadata": {},
   "outputs": [
    {
     "data": {
      "text/plain": [
       "[0.42467715333494155,\n",
       " 0.4331282414672987,\n",
       " 0.3480777683137659,\n",
       " 0.4094431213326579,\n",
       " 0.40866638012608747,\n",
       " 0.39037155057553174,\n",
       " 0.43074973427887014,\n",
       " 0.39540955548109924,\n",
       " 0.362456188692021,\n",
       " 0.37552175030121,\n",
       " 0.3624393360157119,\n",
       " 0.38341074868936265,\n",
       " 0.38542393971676936,\n",
       " 0.3715183327484265,\n",
       " 0.3776131121909639,\n",
       " 0.35305821991816627,\n",
       " 0.3951356631015369,\n",
       " 0.37570321529940703,\n",
       " 0.3871815439494967,\n",
       " 0.3835825099856993,\n",
       " 0.3505413877237406,\n",
       " 0.34041913974512134,\n",
       " 0.29869047477151617,\n",
       " 0.32500012949385565,\n",
       " 0.37786373562552034,\n",
       " 0.3371350336668547,\n",
       " 0.3524043724120565,\n",
       " 0.32571933235921824,\n",
       " 0.30542004233734044,\n",
       " 0.3345363520222163,\n",
       " 0.33892972466952054,\n",
       " 0.3613526300988742,\n",
       " 0.3320993872998515,\n",
       " 0.33354662398179064,\n",
       " 0.3125334645794646,\n",
       " 0.31851766412433064,\n",
       " 0.3539627218013811,\n",
       " 0.33661845682177227,\n",
       " 0.3123603217380296,\n",
       " 0.317602928321925,\n",
       " 0.37512760172132403,\n",
       " 0.33944016516886766,\n",
       " 0.3335221822898602,\n",
       " 0.32230346942541654,\n",
       " 0.3500138236489147,\n",
       " 0.2836479840762331,\n",
       " 0.35247333837586486,\n",
       " 0.36349860330391676,\n",
       " 0.33262036033242476,\n",
       " 0.3254792330641358,\n",
       " 0.2992649194201222,\n",
       " 0.29127182012272534,\n",
       " 0.3351657516217092,\n",
       " 0.33442710274260024,\n",
       " 0.3383243097035447,\n",
       " 0.3290005027772859,\n",
       " 0.3043492224969086,\n",
       " 0.3154693811410107,\n",
       " 0.30865124194766397,\n",
       " 0.307698469480616,\n",
       " 0.27817611324886093,\n",
       " 0.33771658916492014,\n",
       " 0.3102958513231715,\n",
       " 0.2792430493671127,\n",
       " 0.2974249620871851,\n",
       " 0.3025420406430785,\n",
       " 0.3320627808131976,\n",
       " 0.3235718518118374,\n",
       " 0.3075237462125369,\n",
       " 0.2963830027079675,\n",
       " 0.2837878288094653,\n",
       " 0.3049654418540886,\n",
       " 0.2858603678914951,\n",
       " 0.31417599016381426,\n",
       " 0.3150725866071298,\n",
       " 0.28903049330397335,\n",
       " 0.29951164885691833,\n",
       " 0.2819426502350834,\n",
       " 0.3007033723145796,\n",
       " 0.3030218176927301,\n",
       " 0.31687166786700255,\n",
       " 0.33776196040169454,\n",
       " 0.33305770354880954,\n",
       " 0.3164287769855582,\n",
       " 0.27754833879336366,\n",
       " 0.3012397373730928,\n",
       " 0.2927394267200725,\n",
       " 0.28943153525626986,\n",
       " 0.3130343017441919,\n",
       " 0.3104374992180965,\n",
       " 0.2880415928050061,\n",
       " 0.30797543776565,\n",
       " 0.27941699512154444,\n",
       " 0.2733886932901805,\n",
       " 0.33782127967034464,\n",
       " 0.2965141403998969,\n",
       " 0.2861768600567666,\n",
       " 0.32848052329593336,\n",
       " 0.2760966983905819,\n",
       " 0.27965189889536124]"
      ]
     },
     "execution_count": 160,
     "metadata": {},
     "output_type": "execute_result"
    }
   ],
   "source": [
    "all_losses"
   ]
  },
  {
   "cell_type": "code",
   "execution_count": null,
   "metadata": {
    "collapsed": true
   },
   "outputs": [],
   "source": []
  }
 ],
 "metadata": {
  "kernelspec": {
   "display_name": "Python 3",
   "language": "python",
   "name": "python3"
  },
  "language_info": {
   "codemirror_mode": {
    "name": "ipython",
    "version": 3
   },
   "file_extension": ".py",
   "mimetype": "text/x-python",
   "name": "python",
   "nbconvert_exporter": "python",
   "pygments_lexer": "ipython3",
   "version": "3.6.3"
  }
 },
 "nbformat": 4,
 "nbformat_minor": 1
}
