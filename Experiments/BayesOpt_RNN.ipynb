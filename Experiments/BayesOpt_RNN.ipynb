{
 "cells": [
  {
   "cell_type": "markdown",
   "metadata": {},
   "source": [
    "* This notebook is to demonstrate how to use Bayesian Optimization package on github <https://github.com/fmfn/BayesianOptimization> locally to tune hyperparamters for our models(RNN only) for predicting heart failure onset risk on cerner sample data\n",
    "* For this demonstration, the data is the original 1 hospital (h143) previously used by retain, with 42,729 patients in total\n",
    "* The hyperparameters to be tuned are: learning rate, l2 regularization, and eps for optimizer, dropout rate, embedding dimension, hidden dimension, number of layers and optimizer\n",
    "* To implement this, first you need to install the package: however we modify the package file a bit to bypass errors and keep on iterating. The modified files could be found at Experiments/modifiedBO\n",
    "* Then **important**: you need to define a function (in our case model_tune()) which takes in the hyperparameters: l2_exp, lr_exp, eps_exp on logscale, embed_dim, hid_dim on log2scale, dropout and also ct_code, dlm_code and opt_code, and run the model using models, Loaddata, and TrainVaTe modules and return the best validation auc. We put the categorical parameters: ct_code: cell_type code which includes RNN, GRU and LSTM; dlm_code: model code which includes RNN and DRNN, and opt_code: optimitzer code which includes 7 optimizers to a 3-level loop so that each time we run BO, it takes a combination of model, cell_type and optimizer and return the rest of best parameters based on best validation auc\n",
    "* Be ware that this BO package will search float parameters, so if you have int or categorical parameters you want to tune, you might want to transform those values in your function before giving those to your models (like we did here)\n",
    "* Then **important**: call BO function and pass your model_tune(), a search range for each parameter ((-16, 1) means -16 and 1 inclusive), and give it points to explore (points that will give you large target values) if you want to, and call maximize() and pass number of iterations you want to run BO\n",
    "* Then you will get results of your initial designated explored points(if any), 5 initializations, and plus number of BO iterations\n",
    "* For our results:it's time consuming for RNN model, but it improved our best validation auc **from 0.67414** to currently **0.72648**\n",
    "\n",
    " Bayesian Optimization\n",
    "--------------------------------------------------------------------------------------------------------------------------------\n",
    " Step |   Time |      Value |   ct_code |   dlm_code |   dropout |   embdim_exp |   eps_exp |   hid_exp |    l2_exp |   layers_n |    lr_exp |   opt_code | \n",
    " \n",
    "   77 | 50m47s |    0.72648 |    1.0000 |     1.0000 |    0.0000 |       9.0000 |   -5.0000 |    9.0000 |   -5.6805 |     1.0000 |   -6.3180 |     1.0000  | "
   ]
  },
  {
   "cell_type": "code",
   "execution_count": 1,
   "metadata": {},
   "outputs": [],
   "source": [
    "from __future__ import print_function\n",
    "from __future__ import division\n",
    "\n",
    "#from sklearn.datasets import make_classification\n",
    "#from sklearn.cross_validation import cross_val_score\n",
    "import string\n",
    "import re\n",
    "import random\n",
    "\n",
    "import os\n",
    "import sys\n",
    "import argparse\n",
    "import time\n",
    "import math\n",
    "\n",
    "import torch\n",
    "import torch.nn as nn\n",
    "from torch.autograd import Variable\n",
    "from torch import optim\n",
    "import torch.nn.functional as F\n",
    "from torchviz import make_dot, make_dot_from_trace\n",
    "\n",
    "from sklearn.metrics import roc_auc_score  \n",
    "from sklearn.metrics import roc_curve \n",
    "\n",
    "import matplotlib.pyplot as plt\n",
    "import matplotlib.ticker as ticker\n",
    "import numpy as np\n",
    "\n",
    "try:\n",
    "    import cPickle as pickle\n",
    "except:\n",
    "    import pickle\n",
    "\n",
    "\n",
    "from bayes_opt import BayesianOptimization"
   ]
  },
  {
   "cell_type": "code",
   "execution_count": 2,
   "metadata": {},
   "outputs": [],
   "source": [
    "torch.backends.cudnn.enabled=False"
   ]
  },
  {
   "cell_type": "code",
   "execution_count": 3,
   "metadata": {},
   "outputs": [],
   "source": [
    "torch.cuda.set_device(0)"
   ]
  },
  {
   "cell_type": "code",
   "execution_count": 4,
   "metadata": {},
   "outputs": [
    {
     "data": {
      "text/plain": [
       "True"
      ]
     },
     "execution_count": 4,
     "metadata": {},
     "output_type": "execute_result"
    }
   ],
   "source": [
    "import model_RNN as model #this changed\n",
    "import Loaddata_final as Loaddata\n",
    "import TrVaTe as TVT #This changed \n",
    "\n",
    "# check GPU availability\n",
    "use_cuda = torch.cuda.is_available()\n",
    "use_cuda"
   ]
  },
  {
   "cell_type": "code",
   "execution_count": 5,
   "metadata": {},
   "outputs": [
    {
     "name": "stdout",
     "output_type": "stream",
     "text": [
      "\n",
      "Loading and preparing data...\n",
      "\n",
      "Sample data after split:\n",
      "[0, [[1667, 144, 62, 85], [1667, 144, 62, 85]]]\n",
      "model is RNN\n"
     ]
    }
   ],
   "source": [
    "# Load data set and target values\n",
    "set_x = pickle.load(open('Data/h143.visits', 'rb'), encoding='bytes')\n",
    "set_y = pickle.load(open('Data/h143.labels', 'rb'),encoding='bytes')\n",
    "\n",
    "\"\"\"\n",
    "model_x = []\n",
    "for patient in set_x:\n",
    "    model_x.append([each for visit in patient for each in visit])  \n",
    "    \n",
    "\"\"\"\n",
    "model_x = set_x  #this is for the rest of the models\n",
    "    \n",
    "merged_set= [[set_y[i],model_x[i]] for i in range(len(set_y))] #list of list or list of lists of lists\n",
    "print(\"\\nLoading and preparing data...\")    \n",
    "train1, valid1, test1 = Loaddata.load_data(merged_set)\n",
    "print(\"\\nSample data after split:\")  \n",
    "print(train1[0])\n",
    "print(\"model is\", 'RNN') #can change afterwards, currently on most basic RNN"
   ]
  },
  {
   "cell_type": "code",
   "execution_count": 6,
   "metadata": {},
   "outputs": [],
   "source": [
    "def print2file(buf, outFile):\n",
    "    outfd = open(outFile, 'a')\n",
    "    outfd.write(buf + '\\n')\n",
    "    outfd.close()\n",
    "\n",
    "logFile='testRNN_JustRNN.log'\n",
    "header = 'Model|EmbSize|CellType|n_Layers|Hidden|Dropout|Optimizer|LR|L2|EPs|BestValidAUC|TestAUC|atEpoch'\n",
    "print2file(header, logFile)"
   ]
  },
  {
   "cell_type": "code",
   "execution_count": 7,
   "metadata": {},
   "outputs": [],
   "source": [
    "epochs = 100"
   ]
  },
  {
   "cell_type": "code",
   "execution_count": 8,
   "metadata": {},
   "outputs": [],
   "source": [
    "def model_tune(dlm_code, ct_code, opt_code, embdim_exp, hid_exp, layers_n, dropout, l2_exp , lr_exp, eps_exp):\n",
    "    #little transformations to use the searched values\n",
    "    embed_dim = 2** int(embdim_exp)\n",
    "    hidden_size = 2** int(hid_exp)\n",
    "    n_layers = int(layers_n)\n",
    "    dropout = round(dropout, 4)\n",
    "    l2 = np.exp(l2_exp)\n",
    "    lr = np.exp(lr_exp)\n",
    "    eps = np.exp(eps_exp)\n",
    "\n",
    "        \n",
    "    #dealing with categorical data\n",
    "    if int(dlm_code)<3:\n",
    "      if int(ct_code) ==1:\n",
    "          cell_type='RNN'   \n",
    "      elif int(ct_code) ==2:\n",
    "          cell_type='LSTM'\n",
    "      elif int(ct_code) ==3:\n",
    "          cell_type='GRU'\n",
    "      \n",
    "    if int(dlm_code)==1:\n",
    "        w_model='RNN'\n",
    "        ehr_model = model.EHR_RNN(20000, embed_dim, hidden_size, n_layers, dropout, cell_type)\n",
    "    elif int(dlm_code)==2:\n",
    "        w_model='DRNN'\n",
    "        ehr_model = model.DRNN(20000, embed_dim, hidden_size, n_layers, dropout, cell_type)\n",
    "\n",
    "    if use_cuda:\n",
    "        ehr_model = ehr_model.cuda(0)    \n",
    "        \n",
    "        \n",
    "    if int(opt_code) ==1:\n",
    "        opt= 'Adadelta'\n",
    "        optimizer = optim.Adadelta(ehr_model.parameters(), lr=lr, weight_decay=l2 ,eps=eps) ## rho=0.9\n",
    "    elif int(opt_code) ==2:\n",
    "        opt= 'Adagrad'\n",
    "        optimizer = optim.Adagrad(ehr_model.parameters(), lr=lr, weight_decay=l2) ##lr_decay no eps\n",
    "    elif int(opt_code) ==3:\n",
    "        opt= 'Adam'\n",
    "        optimizer = optim.Adam(ehr_model.parameters(), lr=lr, weight_decay=l2,eps=eps ) ## Beta defaults (0.9, 0.999), amsgrad (false)\n",
    "    elif int(opt_code) ==4:\n",
    "        opt= 'Adamax'\n",
    "        optimizer = optim.Adamax(ehr_model.parameters(), lr=lr, weight_decay=l2 ,eps=eps) ### Beta defaults (0.9, 0.999)\n",
    "    elif int(opt_code) ==5:\n",
    "        opt= 'RMSprop'\n",
    "        optimizer = optim.RMSprop(ehr_model.parameters(), lr=lr, weight_decay=l2 ,eps=eps)                \n",
    "    elif int(opt_code) ==6:\n",
    "        opt= 'ASGD'\n",
    "        optimizer = optim.ASGD(ehr_model.parameters(), lr=lr, weight_decay=l2 ) ### other parameters\n",
    "    elif int(opt_code) ==7:\n",
    "        opt= 'SGD'\n",
    "        optimizer = optim.SGD(ehr_model.parameters(), lr=lr, weight_decay=l2 ) ### other parameters\n",
    "  \n",
    "    \n",
    "    bestValidAuc = 0.0\n",
    "    bestTestAuc = 0.0\n",
    "    bestValidEpoch = 0\n",
    "  \n",
    "    for ep in range(epochs):\n",
    "        current_loss, train_loss = TVT.train(train1, model= ehr_model, optimizer = optimizer, batch_size = 200)\n",
    "        avg_loss = np.mean(train_loss)\n",
    "        valid_auc, y_real, y_hat  = TVT.calculate_auc(model = ehr_model, data = valid1, which_model = w_model, batch_size = 200)\n",
    "        if valid_auc > bestValidAuc: \n",
    "            bestValidAuc = valid_auc\n",
    "            bestValidEpoch = ep\n",
    "            best_model= ehr_model\n",
    "            #bestTestAuc, y_real, y_hat = TVT.calculate_auc(model = ehr_model, data = test1, which_model = w_model, batch_size = 200)\n",
    "\n",
    "        if ep - bestValidEpoch > 12:\n",
    "            break\n",
    "      \n",
    "  \n",
    "     \n",
    "    fname= w_model+'E'+str(embed_dim)+cell_type+'L'+str(n_layers)+'H'+str(hidden_size)+'D'+str(dropout)+opt+'L'+str(lr)+'P'+str(l2)  \n",
    "    bmodel_pth='models/'+fname\n",
    "    bestTestAuc, y_real, y_hat = TVT.calculate_auc(model = best_model, data = test1, which_model = w_model, batch_size = 200)\n",
    "    torch.save(best_model, bmodel_pth)\n",
    "    buf = '|%f |%f |%d ' % (bestValidAuc, bestTestAuc, bestValidEpoch )\n",
    "    \n",
    "    pFile= w_model+'|'+str(embed_dim)+'|'+cell_type+'|'+str(n_layers)+'|'+str(hidden_size)+'|'+str(dropout)+'|'+opt+'|'+str(lr)+'|'+str(l2)+'|'+str(eps)+ buf  \n",
    "    print2file(pFile, logFile)\n",
    "    \n",
    "    return bestValidAuc"
   ]
  },
  {
   "cell_type": "code",
   "execution_count": 9,
   "metadata": {
    "scrolled": false
   },
   "outputs": [
    {
     "name": "stdout",
     "output_type": "stream",
     "text": [
      "\n",
      " Now Tuning model with Bayesian Optimization:  cell code 1 model code 1 optimizer code 1\n",
      "\u001b[31mInitialization\u001b[0m\n",
      "\u001b[94m-----------------------------------------------------------------------------------------------------------------------------------------------------------\u001b[0m\n",
      " Step |   Time |      Value |   ct_code |   dlm_code |   dropout |   embdim_exp |   eps_exp |   hid_exp |    l2_exp |   layers_n |    lr_exp |   opt_code | \n",
      "    1 | 13m45s | \u001b[35m   0.67414\u001b[0m | \u001b[32m   1.0000\u001b[0m | \u001b[32m    1.0000\u001b[0m | \u001b[32m   0.1000\u001b[0m | \u001b[32m      8.0000\u001b[0m | \u001b[32m  -6.0000\u001b[0m | \u001b[32m   8.0000\u001b[0m | \u001b[32m  -3.0000\u001b[0m | \u001b[32m    1.0000\u001b[0m | \u001b[32m  -3.0000\u001b[0m | \u001b[32m    1.0000\u001b[0m | \n",
      "    2 | 42m27s |    0.61278 |    1.0000 |     1.0000 |    0.0001 |       5.2480 |   -7.0351 |    6.1856 |   -2.8426 |     1.7153 |   -6.8576 |     1.0000 | \n",
      "    3 | 15m18s |    0.67055 |    1.0000 |     1.0000 |    0.5291 |       7.8718 |   -8.2068 |    5.8928 |   -3.4709 |     1.9797 |   -3.3319 |     1.0000 | \n",
      "    4 | 16m15s | \u001b[35m   0.68073\u001b[0m | \u001b[32m   1.0000\u001b[0m | \u001b[32m    1.0000\u001b[0m | \u001b[32m   0.3904\u001b[0m | \u001b[32m      7.6742\u001b[0m | \u001b[32m  -6.1834\u001b[0m | \u001b[32m   5.9419\u001b[0m | \u001b[32m  -5.2645\u001b[0m | \u001b[32m    1.8744\u001b[0m | \u001b[32m  -3.2080\u001b[0m | \u001b[32m    1.0000\u001b[0m | \n",
      "    5 | 19m32s |    0.65180 |    1.0000 |     1.0000 |    0.1998 |       7.4756 |   -6.1802 |    6.5406 |   -2.5097 |     1.7616 |   -3.2534 |     1.0000 | \n",
      "    6 | 16m22s |    0.63695 |    1.0000 |     1.0000 |    0.5356 |       6.5205 |   -6.7165 |    5.3366 |   -4.9935 |     2.3071 |   -2.9571 |     1.0000 | \n",
      "\u001b[31mBayesian Optimization\u001b[0m\n",
      "\u001b[94m-----------------------------------------------------------------------------------------------------------------------------------------------------------\u001b[0m\n",
      " Step |   Time |      Value |   ct_code |   dlm_code |   dropout |   embdim_exp |   eps_exp |   hid_exp |    l2_exp |   layers_n |    lr_exp |   opt_code | \n",
      "    7 | 08m50s |    0.50000 |    1.0000 |     1.0000 |    1.0000 |       9.0000 |   -9.0000 |    9.0000 |   -6.0000 |     3.0000 |   -7.0000 |     1.0000 | \n",
      "    8 | 46m24s |    0.63562 |    1.0000 |     1.0000 |    1.0000 |       9.0000 |   -5.0000 |    5.0000 |   -1.0000 |     1.0000 |   -7.0000 |     1.0000 | \n",
      "    9 | 09m35s | \u001b[35m   0.68805\u001b[0m | \u001b[32m   1.0000\u001b[0m | \u001b[32m    1.0000\u001b[0m | \u001b[32m   0.0000\u001b[0m | \u001b[32m      9.0000\u001b[0m | \u001b[32m  -9.0000\u001b[0m | \u001b[32m   5.0000\u001b[0m | \u001b[32m  -6.0000\u001b[0m | \u001b[32m    1.0000\u001b[0m | \u001b[32m  -2.0000\u001b[0m | \u001b[32m    1.0000\u001b[0m | \n",
      "   10 | 07m24s |    0.47138 |    1.0000 |     1.0000 |    1.0000 |       5.0000 |   -9.0000 |    5.0000 |   -1.0000 |     1.0000 |   -2.0000 |     1.0000 | \n",
      "   11 | 95m43s |    0.62194 |    1.0000 |     1.0000 |    0.0000 |       9.0000 |   -5.0000 |    5.0000 |   -6.0000 |     1.0000 |   -7.0000 |     1.0000 | \n",
      "   12 | 23m55s | \u001b[35m   0.69292\u001b[0m | \u001b[32m   1.0000\u001b[0m | \u001b[32m    1.0000\u001b[0m | \u001b[32m   0.0000\u001b[0m | \u001b[32m      9.0000\u001b[0m | \u001b[32m  -5.0000\u001b[0m | \u001b[32m   9.0000\u001b[0m | \u001b[32m  -6.0000\u001b[0m | \u001b[32m    3.0000\u001b[0m | \u001b[32m  -2.0000\u001b[0m | \u001b[32m    1.0000\u001b[0m | \n",
      "   13 | 42m14s |    0.50400 |    1.0000 |     1.0000 |    0.0000 |       9.0000 |   -9.0000 |    5.0000 |   -1.0000 |     3.0000 |   -7.0000 |     1.0000 | \n",
      "   14 | 19m51s |    0.68732 |    1.0000 |     1.0000 |    1.0000 |       9.0000 |   -9.0000 |    9.0000 |   -6.0000 |     1.0000 |   -2.0000 |     1.0000 | \n",
      "   15 | 21m21s |    0.67377 |    1.0000 |     1.0000 |    1.0000 |       9.0000 |   -5.0000 |    5.0000 |   -6.0000 |     1.0000 |   -2.0000 |     1.0000 | \n",
      "   16 | 88m31s |    0.62330 |    1.0000 |     1.0000 |    1.0000 |       5.0000 |   -5.0000 |    9.0000 |   -6.0000 |     1.0000 |   -7.0000 |     1.0000 | \n",
      "   17 | 21m42s |    0.50000 |    1.0000 |     1.0000 |    1.0000 |       9.0000 |   -5.0000 |    9.0000 |   -1.0000 |     3.0000 |   -2.0000 |     1.0000 | \n",
      "   18 | 29m45s |    0.66144 |    1.0000 |     1.0000 |    0.0000 |       5.0000 |   -9.0000 |    9.0000 |   -6.0000 |     1.0000 |   -2.0000 |     1.0000 | \n",
      "   19 | 23m33s |    0.67087 |    1.0000 |     1.0000 |    0.0000 |       9.0000 |   -5.0000 |    9.0000 |   -6.0000 |     1.0000 |   -2.0000 |     1.0000 | \n",
      "   20 | 31m05s | \u001b[35m   0.70856\u001b[0m | \u001b[32m   1.0000\u001b[0m | \u001b[32m    1.0000\u001b[0m | \u001b[32m   0.0000\u001b[0m | \u001b[32m      9.0000\u001b[0m | \u001b[32m  -9.0000\u001b[0m | \u001b[32m   8.2552\u001b[0m | \u001b[32m  -6.0000\u001b[0m | \u001b[32m    3.0000\u001b[0m | \u001b[32m  -2.0000\u001b[0m | \u001b[32m    1.0000\u001b[0m | \n",
      "   21 | 33m59s |    0.52169 |    1.0000 |     1.0000 |    0.0000 |       5.0000 |   -5.0000 |    9.0000 |   -1.0000 |     1.0000 |   -7.0000 |     1.0000 | \n",
      "   22 | 30m11s |    0.68387 |    1.0000 |     1.0000 |    0.0000 |       9.0000 |   -6.3695 |    5.0000 |   -3.1415 |     1.0000 |   -2.0000 |     1.0000 | \n",
      "   23 | 41m15s |    0.69864 |    1.0000 |     1.0000 |    0.0000 |       9.0000 |   -9.0000 |    7.9429 |   -3.9429 |     1.0000 |   -2.0000 |     1.0000 | \n",
      "   24 | 59m26s |    0.68370 |    1.0000 |     1.0000 |    0.0000 |       5.0000 |   -5.0000 |    9.0000 |   -6.0000 |     3.0000 |   -2.0000 |     1.0000 | \n",
      "   25 | 43m00s |    0.69418 |    1.0000 |     1.0000 |    0.0000 |       7.1413 |   -7.6238 |    8.9834 |   -6.0000 |     3.0000 |   -2.0000 |     1.0000 | \n",
      "   26 | 34m30s |    0.68251 |    1.0000 |     1.0000 |    0.0000 |       9.0000 |   -7.1880 |    7.0513 |   -6.0000 |     1.0000 |   -2.0000 |     1.0000 | \n",
      "   27 | 100m39s |    0.66369 |    1.0000 |     1.0000 |    0.0000 |       5.0000 |   -5.0000 |    5.0000 |   -6.0000 |     1.0000 |   -5.2222 |     1.0000 | \n",
      "   28 | 58m02s |    0.68654 |    1.0000 |     1.0000 |    0.0000 |       9.0000 |   -5.0000 |    5.0000 |   -3.5124 |     1.0000 |   -4.4816 |     1.0000 | \n",
      "   29 | 40m01s |    0.66871 |    1.0000 |     1.0000 |    0.0000 |       9.0000 |   -5.0000 |    5.0000 |   -6.0000 |     3.0000 |   -2.0000 |     1.0000 | \n",
      "   30 | 29m13s |    0.50000 |    1.0000 |     1.0000 |    1.0000 |       9.0000 |   -9.0000 |    6.9652 |   -5.2685 |     3.0000 |   -2.0000 |     1.0000 | \n",
      "   31 | 44m31s |    0.63979 |    1.0000 |     1.0000 |    0.0000 |       9.0000 |   -9.0000 |    9.0000 |   -1.0000 |     1.0000 |   -5.8840 |     1.0000 | \n",
      "   32 | 103m59s |    0.60108 |    1.0000 |     1.0000 |    0.0000 |       6.5654 |   -9.0000 |    5.0000 |   -6.0000 |     1.0000 |   -7.0000 |     1.0000 | \n",
      "   33 | 49m01s | \u001b[35m   0.71172\u001b[0m | \u001b[32m   1.0000\u001b[0m | \u001b[32m    1.0000\u001b[0m | \u001b[32m   0.0000\u001b[0m | \u001b[32m      9.0000\u001b[0m | \u001b[32m  -9.0000\u001b[0m | \u001b[32m   9.0000\u001b[0m | \u001b[32m  -6.0000\u001b[0m | \u001b[32m    1.0000\u001b[0m | \u001b[32m  -4.3408\u001b[0m | \u001b[32m    1.0000\u001b[0m | \n",
      "   34 | 155m13s |    0.67734 |    1.0000 |     1.0000 |    0.0000 |       5.0000 |   -5.0000 |    9.0000 |   -6.0000 |     3.0000 |   -5.9489 |     1.0000 | \n",
      "   35 | 69m36s |    0.53965 |    1.0000 |     1.0000 |    0.0000 |       9.0000 |   -9.0000 |    5.0000 |   -1.0000 |     1.0000 |   -4.0521 |     1.0000 | \n",
      "   36 | 150m04s |    0.65532 |    1.0000 |     1.0000 |    0.0000 |       9.0000 |   -5.0000 |    9.0000 |   -2.4423 |     3.0000 |   -7.0000 |     1.0000 | \n",
      "   37 | 59m09s |    0.66448 |    1.0000 |     1.0000 |    0.0000 |       6.4589 |   -5.0000 |    5.0000 |   -6.0000 |     1.0000 |   -2.0000 |     1.0000 | \n",
      "   38 | 32m34s |    0.50000 |    1.0000 |     1.0000 |    1.0000 |       5.0000 |   -5.0000 |    5.0000 |   -6.0000 |     3.0000 |   -7.0000 |     1.0000 | \n",
      "   39 | 64m48s |    0.59106 |    1.0000 |     1.0000 |    0.0000 |       5.0000 |   -9.0000 |    9.0000 |   -2.8594 |     3.0000 |   -4.6338 |     1.0000 | \n",
      "   40 | 37m01s |    0.69876 |    1.0000 |     1.0000 |    0.0000 |       9.0000 |   -9.0000 |    9.0000 |   -6.0000 |     1.0000 |   -2.0000 |     1.0000 | \n",
      "   41 | 89m49s |    0.67666 |    1.0000 |     1.0000 |    0.0000 |       5.0000 |   -9.0000 |    5.0000 |   -6.0000 |     1.0000 |   -3.1772 |     1.0000 | \n",
      "   42 | 45m53s | \u001b[35m   0.71368\u001b[0m | \u001b[32m   1.0000\u001b[0m | \u001b[32m    1.0000\u001b[0m | \u001b[32m   0.0000\u001b[0m | \u001b[32m      9.0000\u001b[0m | \u001b[32m  -7.6994\u001b[0m | \u001b[32m   9.0000\u001b[0m | \u001b[32m  -4.0015\u001b[0m | \u001b[32m    2.9943\u001b[0m | \u001b[32m  -4.0781\u001b[0m | \u001b[32m    1.0000\u001b[0m | \n"
     ]
    },
    {
     "name": "stderr",
     "output_type": "stream",
     "text": [
      "/home/jzhu8/.local/lib/python3.5/site-packages/sklearn/gaussian_process/gpr.py:457: UserWarning: fmin_l_bfgs_b terminated abnormally with the  state: {'nit': 2, 'grad': array([4.95880933e-05]), 'funcalls': 51, 'warnflag': 2, 'task': b'ABNORMAL_TERMINATION_IN_LNSRCH'}\n",
      "  \" state: %s\" % convergence_dict)\n"
     ]
    },
    {
     "name": "stdout",
     "output_type": "stream",
     "text": [
      "   43 | 88m36s | \u001b[35m   0.71793\u001b[0m | \u001b[32m   1.0000\u001b[0m | \u001b[32m    1.0000\u001b[0m | \u001b[32m   1.0000\u001b[0m | \u001b[32m      9.0000\u001b[0m | \u001b[32m  -5.0000\u001b[0m | \u001b[32m   9.0000\u001b[0m | \u001b[32m  -3.7994\u001b[0m | \u001b[32m    1.0000\u001b[0m | \u001b[32m  -5.9334\u001b[0m | \u001b[32m    1.0000\u001b[0m | \n",
      "   44 | 68m37s | \u001b[35m   0.71991\u001b[0m | \u001b[32m   1.0000\u001b[0m | \u001b[32m    1.0000\u001b[0m | \u001b[32m   0.0000\u001b[0m | \u001b[32m      9.0000\u001b[0m | \u001b[32m  -5.0000\u001b[0m | \u001b[32m   9.0000\u001b[0m | \u001b[32m  -6.0000\u001b[0m | \u001b[32m    3.0000\u001b[0m | \u001b[32m  -5.1140\u001b[0m | \u001b[32m    1.0000\u001b[0m | \n",
      "   45 | 70m21s |    0.70802 |    1.0000 |     1.0000 |    0.0000 |       7.1202 |   -9.0000 |    9.0000 |   -4.0730 |     1.0000 |   -4.5210 |     1.0000 | \n",
      "   46 | 48m06s |    0.69639 |    1.0000 |     1.0000 |    0.0000 |       7.3194 |   -7.7014 |    5.0000 |   -4.2857 |     1.0000 |   -4.2394 |     1.0000 | \n",
      "   47 | 35m48s |    0.68423 |    1.0000 |     1.0000 |    1.0000 |       5.0000 |   -5.0000 |    9.0000 |   -6.0000 |     1.0000 |   -3.6760 |     1.0000 | \n",
      "   48 | 46m59s |    0.71001 |    1.0000 |     1.0000 |    0.0000 |       7.3270 |   -5.0000 |    9.0000 |   -6.0000 |     1.0000 |   -5.0207 |     1.0000 | \n",
      "   49 | 81m13s |    0.71392 |    1.0000 |     1.0000 |    0.0000 |       9.0000 |   -6.9567 |    9.0000 |   -3.9409 |     1.0000 |   -5.5775 |     1.0000 | \n",
      "   50 | 37m45s |    0.71326 |    1.0000 |     1.0000 |    0.0000 |       7.3469 |   -5.0000 |    9.0000 |   -5.0606 |     3.0000 |   -4.2626 |     1.0000 | \n",
      "   51 | 15m28s |    0.63390 |    1.0000 |     1.0000 |    1.0000 |       9.0000 |   -5.0000 |    9.0000 |   -1.0000 |     1.0000 |   -7.0000 |     1.0000 | \n"
     ]
    },
    {
     "name": "stderr",
     "output_type": "stream",
     "text": [
      "/home/jzhu8/.local/lib/python3.5/site-packages/sklearn/gaussian_process/gpr.py:457: UserWarning: fmin_l_bfgs_b terminated abnormally with the  state: {'nit': 4, 'grad': array([4.77614182e-05]), 'funcalls': 50, 'warnflag': 2, 'task': b'ABNORMAL_TERMINATION_IN_LNSRCH'}\n",
      "  \" state: %s\" % convergence_dict)\n"
     ]
    },
    {
     "name": "stdout",
     "output_type": "stream",
     "text": [
      "   52 | 20m24s |    0.70875 |    1.0000 |     1.0000 |    1.0000 |       9.0000 |   -5.0000 |    9.0000 |   -6.0000 |     1.0000 |   -4.5530 |     1.0000 | \n",
      "   53 | 32m03s |    0.71272 |    1.0000 |     1.0000 |    0.0000 |       7.8988 |   -7.3897 |    9.0000 |   -6.0000 |     2.2282 |   -3.9884 |     1.0000 | \n",
      "   54 | 14m07s |    0.70489 |    1.0000 |     1.0000 |    0.0000 |       9.0000 |   -9.0000 |    9.0000 |   -4.4459 |     1.1423 |   -3.4071 |     1.0000 | \n"
     ]
    },
    {
     "name": "stderr",
     "output_type": "stream",
     "text": [
      "/home/jzhu8/.local/lib/python3.5/site-packages/sklearn/gaussian_process/gpr.py:457: UserWarning: fmin_l_bfgs_b terminated abnormally with the  state: {'nit': 5, 'grad': array([1.48635834e-05]), 'funcalls': 50, 'warnflag': 2, 'task': b'ABNORMAL_TERMINATION_IN_LNSRCH'}\n",
      "  \" state: %s\" % convergence_dict)\n"
     ]
    },
    {
     "name": "stdout",
     "output_type": "stream",
     "text": [
      "   55 | 33m52s |    0.67925 |    1.0000 |     1.0000 |    0.0000 |       6.7300 |   -9.0000 |    6.9772 |   -5.4182 |     1.0000 |   -3.8286 |     1.0000 | \n",
      "   56 | 33m33s |    0.68074 |    1.0000 |     1.0000 |    1.0000 |       7.9544 |   -7.0439 |    9.0000 |   -3.1206 |     1.0000 |   -5.1356 |     1.0000 | \n",
      "   57 | 27m47s |    0.69956 |    1.0000 |     1.0000 |    0.0000 |       9.0000 |   -5.0000 |    7.5925 |   -4.2148 |     1.3650 |   -5.0667 |     1.0000 | \n",
      "   58 | 48m44s |    0.71363 |    1.0000 |     1.0000 |    0.0000 |       9.0000 |   -5.0000 |    9.0000 |   -6.0000 |     1.0000 |   -7.0000 |     1.0000 | \n",
      "   59 | 48m20s |    0.71315 |    1.0000 |     1.0000 |    0.0000 |       9.0000 |   -5.0729 |    9.0000 |   -4.0281 |     1.0000 |   -7.0000 |     1.0000 | \n",
      "   60 | 13m46s |    0.70908 |    1.0000 |     1.0000 |    0.0000 |       9.0000 |   -6.2446 |    9.0000 |   -4.6009 |     1.8602 |   -3.8256 |     1.0000 | \n"
     ]
    },
    {
     "name": "stderr",
     "output_type": "stream",
     "text": [
      "/home/jzhu8/.local/lib/python3.5/site-packages/sklearn/gaussian_process/gpr.py:457: UserWarning: fmin_l_bfgs_b terminated abnormally with the  state: {'nit': 6, 'grad': array([4.15216339e-05]), 'funcalls': 49, 'warnflag': 2, 'task': b'ABNORMAL_TERMINATION_IN_LNSRCH'}\n",
      "  \" state: %s\" % convergence_dict)\n"
     ]
    },
    {
     "name": "stdout",
     "output_type": "stream",
     "text": [
      "   61 | 34m33s |    0.69283 |    1.0000 |     1.0000 |    0.0000 |       9.0000 |   -6.2453 |    5.0000 |   -6.0000 |     1.0000 |   -3.1902 |     1.0000 | \n",
      "   62 | 45m34s |    0.67359 |    1.0000 |     1.0000 |    0.0000 |       5.0000 |   -7.0260 |    9.0000 |   -6.0000 |     1.0000 |   -4.6645 |     1.0000 | \n",
      "   63 | 18m45s | \u001b[35m   0.72120\u001b[0m | \u001b[32m   1.0000\u001b[0m | \u001b[32m    1.0000\u001b[0m | \u001b[32m   0.0000\u001b[0m | \u001b[32m      9.0000\u001b[0m | \u001b[32m  -5.0000\u001b[0m | \u001b[32m   9.0000\u001b[0m | \u001b[32m  -6.0000\u001b[0m | \u001b[32m    3.0000\u001b[0m | \u001b[32m  -4.1409\u001b[0m | \u001b[32m    1.0000\u001b[0m | \n",
      "   64 | 14m08s |    0.70759 |    1.0000 |     1.0000 |    0.0000 |       9.0000 |   -9.0000 |    9.0000 |   -6.0000 |     3.0000 |   -2.7378 |     1.0000 | \n",
      "   65 | 41m11s |    0.68831 |    1.0000 |     1.0000 |    0.0000 |       6.5111 |   -5.0000 |    9.0000 |   -6.0000 |     3.0000 |   -3.9277 |     1.0000 | \n",
      "   66 | 42m34s |    0.71260 |    1.0000 |     1.0000 |    0.0000 |       8.8859 |   -5.0000 |    9.0000 |   -5.0669 |     1.8240 |   -5.2225 |     1.0000 | \n",
      "   67 | 49m21s |    0.71733 |    1.0000 |     1.0000 |    1.0000 |       9.0000 |   -5.0000 |    9.0000 |   -6.0000 |     1.0000 |   -7.0000 |     1.0000 | \n"
     ]
    },
    {
     "name": "stderr",
     "output_type": "stream",
     "text": [
      "/home/jzhu8/.local/lib/python3.5/site-packages/sklearn/gaussian_process/gpr.py:457: UserWarning: fmin_l_bfgs_b terminated abnormally with the  state: {'nit': 3, 'grad': array([1.27967004e-05]), 'funcalls': 49, 'warnflag': 2, 'task': b'ABNORMAL_TERMINATION_IN_LNSRCH'}\n",
      "  \" state: %s\" % convergence_dict)\n"
     ]
    },
    {
     "name": "stdout",
     "output_type": "stream",
     "text": [
      "   68 | 16m44s |    0.67067 |    1.0000 |     1.0000 |    0.0000 |       7.2565 |   -9.0000 |    9.0000 |   -3.7543 |     1.0135 |   -2.0913 |     1.0000 | \n",
      "   69 | 49m30s |    0.70640 |    1.0000 |     1.0000 |    0.0000 |       9.0000 |   -9.0000 |    9.0000 |   -3.5357 |     1.0000 |   -7.0000 |     1.0000 | \n",
      "   70 | 49m13s |    0.70561 |    1.0000 |     1.0000 |    0.0000 |       9.0000 |   -6.7454 |    7.0560 |   -3.2950 |     1.0000 |   -6.7314 |     1.0000 | \n",
      "   71 | 15m29s |    0.61267 |    1.0000 |     1.0000 |    0.0000 |       5.0000 |   -5.0000 |    5.0000 |   -3.6817 |     1.0000 |   -2.0000 |     1.0000 | \n",
      "   72 | 46m56s |    0.70712 |    1.0000 |     1.0000 |    0.0000 |       9.0000 |   -7.0516 |    9.0000 |   -4.7905 |     1.0000 |   -7.0000 |     1.0000 | \n",
      "   73 | 60m21s |    0.71194 |    1.0000 |     1.0000 |    0.0000 |       9.0000 |   -5.0000 |    9.0000 |   -6.0000 |     3.0000 |   -7.0000 |     1.0000 | \n",
      "   74 | 12m20s |    0.69828 |    1.0000 |     1.0000 |    0.0000 |       9.0000 |   -6.4612 |    9.0000 |   -5.9785 |     2.7392 |   -3.6979 |     1.0000 | \n",
      "   75 | 49m09s |    0.69982 |    1.0000 |     1.0000 |    1.0000 |       9.0000 |   -5.0000 |    8.0602 |   -4.3374 |     1.0000 |   -6.7337 |     1.0000 | \n",
      "   76 | 35m11s |    0.70192 |    1.0000 |     1.0000 |    0.0000 |       8.4680 |   -8.0276 |    7.9625 |   -3.4620 |     1.2467 |   -5.2335 |     1.0000 | \n",
      "   77 | 50m47s | \u001b[35m   0.72648\u001b[0m | \u001b[32m   1.0000\u001b[0m | \u001b[32m    1.0000\u001b[0m | \u001b[32m   0.0000\u001b[0m | \u001b[32m      9.0000\u001b[0m | \u001b[32m  -5.0000\u001b[0m | \u001b[32m   9.0000\u001b[0m | \u001b[32m  -5.6805\u001b[0m | \u001b[32m    1.0000\u001b[0m | \u001b[32m  -6.3180\u001b[0m | \u001b[32m    1.0000\u001b[0m | \n"
     ]
    },
    {
     "name": "stderr",
     "output_type": "stream",
     "text": [
      "/home/jzhu8/.local/lib/python3.5/site-packages/sklearn/gaussian_process/gpr.py:457: UserWarning: fmin_l_bfgs_b terminated abnormally with the  state: {'nit': 2, 'grad': array([-4.18085121e-05]), 'funcalls': 51, 'warnflag': 2, 'task': b'ABNORMAL_TERMINATION_IN_LNSRCH'}\n",
      "  \" state: %s\" % convergence_dict)\n"
     ]
    },
    {
     "name": "stdout",
     "output_type": "stream",
     "text": [
      "   78 | 50m00s |    0.69092 |    1.0000 |     1.0000 |    0.0000 |       7.7467 |   -5.7728 |    9.0000 |   -5.3181 |     2.0652 |   -5.8542 |     1.0000 | \n",
      "   79 | 30m32s |    0.70874 |    1.0000 |     1.0000 |    0.0000 |       8.7169 |   -9.0000 |    9.0000 |   -4.1188 |     1.0000 |   -4.3757 |     1.0000 | \n",
      "   80 | 10m29s |    0.68881 |    1.0000 |     1.0000 |    0.0000 |       9.0000 |   -8.5538 |    9.0000 |   -6.0000 |     1.7371 |   -2.0000 |     1.0000 | \n",
      "   81 | 24m26s |    0.69291 |    1.0000 |     1.0000 |    0.0081 |       8.8968 |   -7.3501 |    6.7445 |   -4.0455 |     1.0840 |   -4.2544 |     1.0000 | \n",
      "   82 | 23m03s |    0.67773 |    1.0000 |     1.0000 |    0.0359 |       7.4748 |   -7.9632 |    5.4337 |   -4.8790 |     1.1595 |   -2.0255 |     1.0000 | \n",
      "   83 | 11m30s |    0.68678 |    1.0000 |     1.0000 |    0.0000 |       9.0000 |   -5.0000 |    5.0000 |   -6.0000 |     1.0000 |   -2.0000 |     1.0000 | \n"
     ]
    },
    {
     "name": "stderr",
     "output_type": "stream",
     "text": [
      "/home/jzhu8/.local/lib/python3.5/site-packages/sklearn/gaussian_process/gpr.py:457: UserWarning: fmin_l_bfgs_b terminated abnormally with the  state: {'nit': 3, 'grad': array([4.40373262e-05]), 'funcalls': 52, 'warnflag': 2, 'task': b'ABNORMAL_TERMINATION_IN_LNSRCH'}\n",
      "  \" state: %s\" % convergence_dict)\n"
     ]
    },
    {
     "name": "stdout",
     "output_type": "stream",
     "text": [
      "   84 | 49m13s |    0.71324 |    1.0000 |     1.0000 |    0.0000 |       9.0000 |   -5.0830 |    9.0000 |   -5.5476 |     1.0000 |   -6.0586 |     1.0000 | \n",
      "   85 | 45m40s |    0.69643 |    1.0000 |     1.0000 |    0.0000 |       8.9173 |   -7.3933 |    8.8535 |   -3.2991 |     1.0000 |   -6.0678 |     1.0000 | \n"
     ]
    },
    {
     "name": "stderr",
     "output_type": "stream",
     "text": [
      "/home/jzhu8/.local/lib/python3.5/site-packages/sklearn/gaussian_process/gpr.py:457: UserWarning: fmin_l_bfgs_b terminated abnormally with the  state: {'nit': 5, 'grad': array([-0.00010564]), 'funcalls': 54, 'warnflag': 2, 'task': b'ABNORMAL_TERMINATION_IN_LNSRCH'}\n",
      "  \" state: %s\" % convergence_dict)\n"
     ]
    },
    {
     "name": "stdout",
     "output_type": "stream",
     "text": [
      "   86 | 46m43s |    0.70017 |    1.0000 |     1.0000 |    0.0000 |       9.0000 |   -5.0000 |    9.0000 |   -6.0000 |     1.0000 |   -7.0000 |     1.0000 | \n"
     ]
    },
    {
     "name": "stderr",
     "output_type": "stream",
     "text": [
      "/home/jzhu8/.local/lib/python3.5/site-packages/sklearn/gaussian_process/gpr.py:457: UserWarning: fmin_l_bfgs_b terminated abnormally with the  state: {'nit': 6, 'grad': array([6.5646464e-05]), 'funcalls': 49, 'warnflag': 2, 'task': b'ABNORMAL_TERMINATION_IN_LNSRCH'}\n",
      "  \" state: %s\" % convergence_dict)\n",
      "/home/jzhu8/.local/lib/python3.5/site-packages/sklearn/gaussian_process/gpr.py:457: UserWarning: fmin_l_bfgs_b terminated abnormally with the  state: {'nit': 3, 'grad': array([4.7620996e-05]), 'funcalls': 52, 'warnflag': 2, 'task': b'ABNORMAL_TERMINATION_IN_LNSRCH'}\n",
      "  \" state: %s\" % convergence_dict)\n"
     ]
    },
    {
     "name": "stdout",
     "output_type": "stream",
     "text": [
      "   87 | 20m59s |    0.68386 |    1.0000 |     1.0000 |    0.9832 |       8.3914 |   -5.0227 |    6.4918 |   -4.1948 |     1.0207 |   -3.5946 |     1.0000 | \n",
      "   88 | 32m08s |    0.70946 |    1.0000 |     1.0000 |    0.0000 |       8.9396 |   -5.0000 |    8.3724 |   -4.7471 |     2.9961 |   -4.9628 |     1.0000 | \n",
      "   89 | 17m32s |    0.71528 |    1.0000 |     1.0000 |    0.0000 |       8.4757 |   -5.0000 |    9.0000 |   -6.0000 |     3.0000 |   -4.0391 |     1.0000 | \n"
     ]
    },
    {
     "name": "stderr",
     "output_type": "stream",
     "text": [
      "/home/jzhu8/.local/lib/python3.5/site-packages/sklearn/gaussian_process/gpr.py:457: UserWarning: fmin_l_bfgs_b terminated abnormally with the  state: {'nit': 3, 'grad': array([7.33355291e-05]), 'funcalls': 52, 'warnflag': 2, 'task': b'ABNORMAL_TERMINATION_IN_LNSRCH'}\n",
      "  \" state: %s\" % convergence_dict)\n"
     ]
    },
    {
     "name": "stdout",
     "output_type": "stream",
     "text": [
      "   90 | 54m04s |    0.71921 |    1.0000 |     1.0000 |    0.0000 |       9.0000 |   -5.4129 |    9.0000 |   -4.4303 |     3.0000 |   -5.8702 |     1.0000 | \n",
      "   91 | 46m05s |    0.69936 |    1.0000 |     1.0000 |    0.0000 |       9.0000 |   -5.0000 |    9.0000 |   -5.1578 |     1.0000 |   -7.0000 |     1.0000 | \n",
      "   92 | 21m32s |    0.70576 |    1.0000 |     1.0000 |    0.0000 |       7.0924 |   -9.0000 |    9.0000 |   -6.0000 |     1.0000 |   -3.3751 |     1.0000 | \n",
      "   93 | 29m47s |    0.70674 |    1.0000 |     1.0000 |    0.0000 |       8.7334 |   -7.4503 |    9.0000 |   -4.1811 |     2.6201 |   -2.8486 |     1.0000 | \n",
      "   94 | 35m46s |    0.70935 |    1.0000 |     1.0000 |    0.1128 |       9.0000 |   -5.0000 |    9.0000 |   -6.0000 |     1.4127 |   -5.8970 |     1.0000 | \n",
      "   95 | 19m20s |    0.71147 |    1.0000 |     1.0000 |    0.0000 |       8.8006 |   -5.1035 |    9.0000 |   -4.0590 |     3.0000 |   -3.5528 |     1.0000 | \n",
      "   96 | 26m01s |    0.71480 |    1.0000 |     1.0000 |    1.0000 |       9.0000 |   -5.0000 |    9.0000 |   -6.0000 |     1.0000 |   -5.4739 |     1.0000 | \n",
      "   97 | 45m25s |    0.69460 |    1.0000 |     1.0000 |    0.8465 |       8.5140 |   -5.1286 |    8.9719 |   -4.9097 |     1.0134 |   -5.5406 |     1.0000 | \n",
      "   98 | 28m40s |    0.70360 |    1.0000 |     1.0000 |    0.0000 |       8.9686 |   -5.0000 |    5.0353 |   -4.0545 |     3.0000 |   -3.9235 |     1.0000 | \n"
     ]
    },
    {
     "name": "stderr",
     "output_type": "stream",
     "text": [
      "/home/jzhu8/.local/lib/python3.5/site-packages/sklearn/gaussian_process/gpr.py:457: UserWarning: fmin_l_bfgs_b terminated abnormally with the  state: {'nit': 3, 'grad': array([4.30929186e-05]), 'funcalls': 52, 'warnflag': 2, 'task': b'ABNORMAL_TERMINATION_IN_LNSRCH'}\n",
      "  \" state: %s\" % convergence_dict)\n"
     ]
    },
    {
     "name": "stdout",
     "output_type": "stream",
     "text": [
      "   99 | 22m56s |    0.66890 |    1.0000 |     1.0000 |    0.0000 |       5.0000 |   -5.0000 |    9.0000 |   -6.0000 |     1.0000 |   -2.6224 |     1.0000 | \n",
      "  100 | 29m31s |    0.72044 |    1.0000 |     1.0000 |    0.0000 |       9.0000 |   -9.0000 |    9.0000 |   -6.0000 |     1.0000 |   -4.3948 |     1.0000 | \n",
      "  101 | 55m27s |    0.68434 |    1.0000 |     1.0000 |    0.0000 |       9.0000 |   -5.0000 |    6.8356 |   -3.9222 |     3.0000 |   -5.8900 |     1.0000 | \n",
      "Error in iteration: 95, ignore result\n"
     ]
    },
    {
     "ename": "AttributeError",
     "evalue": "module 'sys' has no attribute 'exc_clear'",
     "output_type": "error",
     "traceback": [
      "\u001b[0;31m---------------------------------------------------------------------------\u001b[0m",
      "\u001b[0;31mOSError\u001b[0m                                   Traceback (most recent call last)",
      "\u001b[0;32m/usr/lib64/python3.5/site-packages/torch/serialization.py\u001b[0m in \u001b[0;36m_with_file_like\u001b[0;34m(f, mode, body)\u001b[0m\n\u001b[1;32m    115\u001b[0m     \u001b[0;32mtry\u001b[0m\u001b[0;34m:\u001b[0m\u001b[0;34m\u001b[0m\u001b[0m\n\u001b[0;32m--> 116\u001b[0;31m         \u001b[0;32mreturn\u001b[0m \u001b[0mbody\u001b[0m\u001b[0;34m(\u001b[0m\u001b[0mf\u001b[0m\u001b[0;34m)\u001b[0m\u001b[0;34m\u001b[0m\u001b[0m\n\u001b[0m\u001b[1;32m    117\u001b[0m     \u001b[0;32mfinally\u001b[0m\u001b[0;34m:\u001b[0m\u001b[0;34m\u001b[0m\u001b[0m\n",
      "\u001b[0;32m/usr/lib64/python3.5/site-packages/torch/serialization.py\u001b[0m in \u001b[0;36m<lambda>\u001b[0;34m(f)\u001b[0m\n\u001b[1;32m    133\u001b[0m     \"\"\"\n\u001b[0;32m--> 134\u001b[0;31m     \u001b[0;32mreturn\u001b[0m \u001b[0m_with_file_like\u001b[0m\u001b[0;34m(\u001b[0m\u001b[0mf\u001b[0m\u001b[0;34m,\u001b[0m \u001b[0;34m\"wb\"\u001b[0m\u001b[0;34m,\u001b[0m \u001b[0;32mlambda\u001b[0m \u001b[0mf\u001b[0m\u001b[0;34m:\u001b[0m \u001b[0m_save\u001b[0m\u001b[0;34m(\u001b[0m\u001b[0mobj\u001b[0m\u001b[0;34m,\u001b[0m \u001b[0mf\u001b[0m\u001b[0;34m,\u001b[0m \u001b[0mpickle_module\u001b[0m\u001b[0;34m,\u001b[0m \u001b[0mpickle_protocol\u001b[0m\u001b[0;34m)\u001b[0m\u001b[0;34m)\u001b[0m\u001b[0;34m\u001b[0m\u001b[0m\n\u001b[0m\u001b[1;32m    135\u001b[0m \u001b[0;34m\u001b[0m\u001b[0m\n",
      "\u001b[0;32m/usr/lib64/python3.5/site-packages/torch/serialization.py\u001b[0m in \u001b[0;36m_save\u001b[0;34m(obj, f, pickle_module, pickle_protocol)\u001b[0m\n\u001b[1;32m    196\u001b[0m     \u001b[0mpickler\u001b[0m\u001b[0;34m.\u001b[0m\u001b[0mpersistent_id\u001b[0m \u001b[0;34m=\u001b[0m \u001b[0mpersistent_id\u001b[0m\u001b[0;34m\u001b[0m\u001b[0m\n\u001b[0;32m--> 197\u001b[0;31m     \u001b[0mpickler\u001b[0m\u001b[0;34m.\u001b[0m\u001b[0mdump\u001b[0m\u001b[0;34m(\u001b[0m\u001b[0mobj\u001b[0m\u001b[0;34m)\u001b[0m\u001b[0;34m\u001b[0m\u001b[0m\n\u001b[0m\u001b[1;32m    198\u001b[0m \u001b[0;34m\u001b[0m\u001b[0m\n",
      "\u001b[0;31mOSError\u001b[0m: [Errno 28] No space left on device",
      "\nDuring handling of the above exception, another exception occurred:\n",
      "\u001b[0;31mOSError\u001b[0m                                   Traceback (most recent call last)",
      "\u001b[0;32m~/.local/lib/python3.5/site-packages/bayes_opt/bayesian_optimization.py\u001b[0m in \u001b[0;36mmaximize\u001b[0;34m(self, init_points, n_iter, acq, kappa, xi, **gp_params)\u001b[0m\n\u001b[1;32m    279\u001b[0m                 \u001b[0;31m# Append most recently generated values to X and Y arrays\u001b[0m\u001b[0;34m\u001b[0m\u001b[0;34m\u001b[0m\u001b[0m\n\u001b[0;32m--> 280\u001b[0;31m                 \u001b[0my\u001b[0m \u001b[0;34m=\u001b[0m \u001b[0mself\u001b[0m\u001b[0;34m.\u001b[0m\u001b[0mspace\u001b[0m\u001b[0;34m.\u001b[0m\u001b[0mobserve_point\u001b[0m\u001b[0;34m(\u001b[0m\u001b[0mx_max\u001b[0m\u001b[0;34m)\u001b[0m\u001b[0;34m\u001b[0m\u001b[0m\n\u001b[0m\u001b[1;32m    281\u001b[0m                 \u001b[0;32mif\u001b[0m \u001b[0mself\u001b[0m\u001b[0;34m.\u001b[0m\u001b[0mverbose\u001b[0m\u001b[0;34m:\u001b[0m\u001b[0;34m\u001b[0m\u001b[0m\n",
      "\u001b[0;32m~/.local/lib/python3.5/site-packages/bayes_opt/target_space.py\u001b[0m in \u001b[0;36mobserve_point\u001b[0;34m(self, x)\u001b[0m\n\u001b[1;32m    138\u001b[0m             \u001b[0mparams\u001b[0m \u001b[0;34m=\u001b[0m \u001b[0mdict\u001b[0m\u001b[0;34m(\u001b[0m\u001b[0mzip\u001b[0m\u001b[0;34m(\u001b[0m\u001b[0mself\u001b[0m\u001b[0;34m.\u001b[0m\u001b[0mkeys\u001b[0m\u001b[0;34m,\u001b[0m \u001b[0mx\u001b[0m\u001b[0;34m)\u001b[0m\u001b[0;34m)\u001b[0m\u001b[0;34m\u001b[0m\u001b[0m\n\u001b[0;32m--> 139\u001b[0;31m             \u001b[0my\u001b[0m \u001b[0;34m=\u001b[0m \u001b[0mself\u001b[0m\u001b[0;34m.\u001b[0m\u001b[0mtarget_func\u001b[0m\u001b[0;34m(\u001b[0m\u001b[0;34m**\u001b[0m\u001b[0mparams\u001b[0m\u001b[0;34m)\u001b[0m\u001b[0;34m\u001b[0m\u001b[0m\n\u001b[0m\u001b[1;32m    140\u001b[0m             \u001b[0mself\u001b[0m\u001b[0;34m.\u001b[0m\u001b[0madd_observation\u001b[0m\u001b[0;34m(\u001b[0m\u001b[0mx\u001b[0m\u001b[0;34m,\u001b[0m \u001b[0my\u001b[0m\u001b[0;34m)\u001b[0m\u001b[0;34m\u001b[0m\u001b[0m\n",
      "\u001b[0;32m<ipython-input-8-363818243f27>\u001b[0m in \u001b[0;36mmodel_tune\u001b[0;34m(dlm_code, ct_code, opt_code, embdim_exp, hid_exp, layers_n, dropout, l2_exp, lr_exp, eps_exp)\u001b[0m\n\u001b[1;32m     76\u001b[0m     \u001b[0mbestTestAuc\u001b[0m\u001b[0;34m,\u001b[0m \u001b[0my_real\u001b[0m\u001b[0;34m,\u001b[0m \u001b[0my_hat\u001b[0m \u001b[0;34m=\u001b[0m \u001b[0mTVT\u001b[0m\u001b[0;34m.\u001b[0m\u001b[0mcalculate_auc\u001b[0m\u001b[0;34m(\u001b[0m\u001b[0mmodel\u001b[0m \u001b[0;34m=\u001b[0m \u001b[0mbest_model\u001b[0m\u001b[0;34m,\u001b[0m \u001b[0mdata\u001b[0m \u001b[0;34m=\u001b[0m \u001b[0mtest1\u001b[0m\u001b[0;34m,\u001b[0m \u001b[0mwhich_model\u001b[0m \u001b[0;34m=\u001b[0m \u001b[0mw_model\u001b[0m\u001b[0;34m,\u001b[0m \u001b[0mbatch_size\u001b[0m \u001b[0;34m=\u001b[0m \u001b[0;36m200\u001b[0m\u001b[0;34m)\u001b[0m\u001b[0;34m\u001b[0m\u001b[0m\n\u001b[0;32m---> 77\u001b[0;31m     \u001b[0mtorch\u001b[0m\u001b[0;34m.\u001b[0m\u001b[0msave\u001b[0m\u001b[0;34m(\u001b[0m\u001b[0mbest_model\u001b[0m\u001b[0;34m,\u001b[0m \u001b[0mbmodel_pth\u001b[0m\u001b[0;34m)\u001b[0m\u001b[0;34m\u001b[0m\u001b[0m\n\u001b[0m\u001b[1;32m     78\u001b[0m     \u001b[0mbuf\u001b[0m \u001b[0;34m=\u001b[0m \u001b[0;34m'|%f |%f |%d '\u001b[0m \u001b[0;34m%\u001b[0m \u001b[0;34m(\u001b[0m\u001b[0mbestValidAuc\u001b[0m\u001b[0;34m,\u001b[0m \u001b[0mbestTestAuc\u001b[0m\u001b[0;34m,\u001b[0m \u001b[0mbestValidEpoch\u001b[0m \u001b[0;34m)\u001b[0m\u001b[0;34m\u001b[0m\u001b[0m\n",
      "\u001b[0;32m/usr/lib64/python3.5/site-packages/torch/serialization.py\u001b[0m in \u001b[0;36msave\u001b[0;34m(obj, f, pickle_module, pickle_protocol)\u001b[0m\n\u001b[1;32m    133\u001b[0m     \"\"\"\n\u001b[0;32m--> 134\u001b[0;31m     \u001b[0;32mreturn\u001b[0m \u001b[0m_with_file_like\u001b[0m\u001b[0;34m(\u001b[0m\u001b[0mf\u001b[0m\u001b[0;34m,\u001b[0m \u001b[0;34m\"wb\"\u001b[0m\u001b[0;34m,\u001b[0m \u001b[0;32mlambda\u001b[0m \u001b[0mf\u001b[0m\u001b[0;34m:\u001b[0m \u001b[0m_save\u001b[0m\u001b[0;34m(\u001b[0m\u001b[0mobj\u001b[0m\u001b[0;34m,\u001b[0m \u001b[0mf\u001b[0m\u001b[0;34m,\u001b[0m \u001b[0mpickle_module\u001b[0m\u001b[0;34m,\u001b[0m \u001b[0mpickle_protocol\u001b[0m\u001b[0;34m)\u001b[0m\u001b[0;34m)\u001b[0m\u001b[0;34m\u001b[0m\u001b[0m\n\u001b[0m\u001b[1;32m    135\u001b[0m \u001b[0;34m\u001b[0m\u001b[0m\n",
      "\u001b[0;32m/usr/lib64/python3.5/site-packages/torch/serialization.py\u001b[0m in \u001b[0;36m_with_file_like\u001b[0;34m(f, mode, body)\u001b[0m\n\u001b[1;32m    118\u001b[0m         \u001b[0;32mif\u001b[0m \u001b[0mnew_fd\u001b[0m\u001b[0;34m:\u001b[0m\u001b[0;34m\u001b[0m\u001b[0m\n\u001b[0;32m--> 119\u001b[0;31m             \u001b[0mf\u001b[0m\u001b[0;34m.\u001b[0m\u001b[0mclose\u001b[0m\u001b[0;34m(\u001b[0m\u001b[0;34m)\u001b[0m\u001b[0;34m\u001b[0m\u001b[0m\n\u001b[0m\u001b[1;32m    120\u001b[0m \u001b[0;34m\u001b[0m\u001b[0m\n",
      "\u001b[0;31mOSError\u001b[0m: [Errno 28] No space left on device",
      "\nDuring handling of the above exception, another exception occurred:\n",
      "\u001b[0;31mAttributeError\u001b[0m                            Traceback (most recent call last)",
      "\u001b[0;32m<ipython-input-9-0fca7cb65c72>\u001b[0m in \u001b[0;36m<module>\u001b[0;34m()\u001b[0m\n\u001b[1;32m     14\u001b[0m                           'hid_exp': [8],'layers_n': [1],'dropout': [0.1],'l2_exp': [-3], 'lr_exp': [-3], 'eps_exp':[-6]})\n\u001b[1;32m     15\u001b[0m \u001b[0;34m\u001b[0m\u001b[0m\n\u001b[0;32m---> 16\u001b[0;31m             \u001b[0mNNBO\u001b[0m\u001b[0;34m.\u001b[0m\u001b[0mmaximize\u001b[0m\u001b[0;34m(\u001b[0m\u001b[0mn_iter\u001b[0m\u001b[0;34m=\u001b[0m\u001b[0;36m10000\u001b[0m\u001b[0;34m,\u001b[0m \u001b[0;34m**\u001b[0m\u001b[0mgp_params\u001b[0m\u001b[0;34m)\u001b[0m\u001b[0;34m\u001b[0m\u001b[0m\n\u001b[0m\u001b[1;32m     17\u001b[0m \u001b[0;34m\u001b[0m\u001b[0m\n\u001b[1;32m     18\u001b[0m             \u001b[0mprint\u001b[0m\u001b[0;34m(\u001b[0m\u001b[0;34m'-'\u001b[0m \u001b[0;34m*\u001b[0m \u001b[0;36m53\u001b[0m\u001b[0;34m)\u001b[0m\u001b[0;34m\u001b[0m\u001b[0m\n",
      "\u001b[0;32m~/.local/lib/python3.5/site-packages/bayes_opt/bayesian_optimization.py\u001b[0m in \u001b[0;36mmaximize\u001b[0;34m(self, init_points, n_iter, acq, kappa, xi, **gp_params)\u001b[0m\n\u001b[1;32m    306\u001b[0m             \u001b[0;32mexcept\u001b[0m \u001b[0mException\u001b[0m\u001b[0;34m:\u001b[0m  \u001b[0;31m#MODIFIED BY GINNY\u001b[0m\u001b[0;34m\u001b[0m\u001b[0m\n\u001b[1;32m    307\u001b[0m                 \u001b[0mprint\u001b[0m \u001b[0;34m(\u001b[0m\u001b[0;34m'Error in iteration: '\u001b[0m\u001b[0;34m+\u001b[0m \u001b[0mstr\u001b[0m\u001b[0;34m(\u001b[0m\u001b[0mi\u001b[0m\u001b[0;34m)\u001b[0m\u001b[0;34m+\u001b[0m \u001b[0;34m', ignore result'\u001b[0m\u001b[0;34m)\u001b[0m\u001b[0;34m\u001b[0m\u001b[0m\n\u001b[0;32m--> 308\u001b[0;31m                 \u001b[0msys\u001b[0m\u001b[0;34m.\u001b[0m\u001b[0mexc_clear\u001b[0m\u001b[0;34m(\u001b[0m\u001b[0;34m)\u001b[0m\u001b[0;34m\u001b[0m\u001b[0m\n\u001b[0m\u001b[1;32m    309\u001b[0m                 \u001b[0;32mcontinue\u001b[0m\u001b[0;34m\u001b[0m\u001b[0m\n\u001b[1;32m    310\u001b[0m \u001b[0;34m\u001b[0m\u001b[0m\n",
      "\u001b[0;31mAttributeError\u001b[0m: module 'sys' has no attribute 'exc_clear'"
     ]
    }
   ],
   "source": [
    "if __name__ == \"__main__\":\n",
    "    gp_params = {\"alpha\": 1e-4}\n",
    "\n",
    "#Here we loop through different models, change the model tune \n",
    "for cti in range(1,4): \n",
    "    for dlmi in range(1,2): #just the RNN, no DRNN\n",
    "        for opti in range(1,8):\n",
    "            print('\\n Now Tuning model with Bayesian Optimization: ','cell code', str(cti),'model code', str(dlmi),'optimizer code',str(opti))\n",
    "            NNBO = BayesianOptimization(model_tune,\n",
    "                                        {'dlm_code':(dlmi,dlmi), 'ct_code': (cti, cti), 'opt_code':(opti, opti),\n",
    "                                         'embdim_exp': (5, 9),'hid_exp': (5, 9),'layers_n': (1, 3),'dropout': (0, 1),\n",
    "                                         'l2_exp': (-6, -1), 'lr_exp': (-7, -2), 'eps_exp': (-9, -5)})\n",
    "            NNBO.explore({'dlm_code':[dlmi], 'ct_code': [cti], 'opt_code':[opti],'embdim_exp': [8],\n",
    "                          'hid_exp': [8],'layers_n': [1],'dropout': [0.1],'l2_exp': [-3], 'lr_exp': [-3], 'eps_exp':[-6]})\n",
    "\n",
    "            NNBO.maximize(n_iter=10000, **gp_params)\n",
    "\n",
    "            print('-' * 53)\n",
    "            print('Final Results')\n",
    "            print('RNN / DRNN: %f' % NNBO.res['max']['max_val'])\n",
    "\n",
    "            print2file(str(NNBO.res['max']), logFile)"
   ]
  },
  {
   "cell_type": "code",
   "execution_count": null,
   "metadata": {},
   "outputs": [],
   "source": []
  }
 ],
 "metadata": {
  "kernelspec": {
   "display_name": "Python 3",
   "language": "python",
   "name": "python3"
  },
  "language_info": {
   "codemirror_mode": {
    "name": "ipython",
    "version": 3
   },
   "file_extension": ".py",
   "mimetype": "text/x-python",
   "name": "python",
   "nbconvert_exporter": "python",
   "pygments_lexer": "ipython3",
   "version": "3.5.5"
  }
 },
 "nbformat": 4,
 "nbformat_minor": 2
}
